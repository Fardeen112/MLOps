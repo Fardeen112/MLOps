{
 "cells": [
  {
   "cell_type": "code",
   "execution_count": null,
   "metadata": {
    "id": "copyright"
   },
   "outputs": [],
   "source": [
    "# Copyright 2021 Google LLC\n",
    "#\n",
    "# Licensed under the Apache License, Version 2.0 (the \"License\");\n",
    "# you may not use this file except in compliance with the License.\n",
    "# You may obtain a copy of the License at\n",
    "#\n",
    "#     https://www.apache.org/licenses/LICENSE-2.0\n",
    "#\n",
    "# Unless required by applicable law or agreed to in writing, software\n",
    "# distributed under the License is distributed on an \"AS IS\" BASIS,\n",
    "# WITHOUT WARRANTIES OR CONDITIONS OF ANY KIND, either express or implied.\n",
    "# See the License for the specific language governing permissions and\n",
    "# limitations under the License."
   ]
  },
  {
   "cell_type": "markdown",
   "metadata": {
    "id": "title:generic"
   },
   "source": [
    "# Vertex AI Pipelines: Lightweight Python function-based components, and component I/O\n",
    "\n",
    "<table align=\"left\">\n",
    "  <td style=\"text-align: center\">\n",
    "    <a href=\"https://colab.research.google.com/github/GoogleCloudPlatform/vertex-ai-samples/blob/main/notebooks/official/pipelines/lightweight_functions_component_io_kfp.ipynb\">\n",
    "      <img src=\"https://cloud.google.com/ml-engine/images/colab-logo-32px.png\" alt=\"Google Colaboratory logo\"><br> Open in Colab\n",
    "    </a>\n",
    "  </td>\n",
    "  <td style=\"text-align: center\">\n",
    "    <a href=\"https://console.cloud.google.com/vertex-ai/colab/import/https:%2F%2Fraw.githubusercontent.com%2FGoogleCloudPlatform%2Fvertex-ai-samples%2Fmain%2Fnotebooks%2Fofficial%2Fpipelines%2Flightweight_functions_component_io_kfp.ipynb\">\n",
    "      <img src=\"https://cloud.google.com/ml-engine/images/colab-enterprise-logo-32px.png\" alt=\"Google Cloud Colab Enterprise logo\"><br> Open in Colab Enterprise\n",
    "    </a>\n",
    "  </td>\n",
    "  <td style=\"text-align: center\">\n",
    "    <a href=\"https://github.com/GoogleCloudPlatform/vertex-ai-samples/blob/main/notebooks/official/pipelines/lightweight_functions_component_io_kfp.ipynb\">\n",
    "      <img src=\"https://cloud.google.com/ml-engine/images/github-logo-32px.png\" alt=\"GitHub logo\"><br> View on GitHub\n",
    "    </a>\n",
    "  </td>\n",
    "  <td style=\"text-align: center\">\n",
    "<a href=\"https://console.cloud.google.com/vertex-ai/workbench/deploy-notebook?download_url=https://raw.githubusercontent.com/GoogleCloudPlatform/vertex-ai-samples/main/notebooks/official/pipelines/lightweight_functions_component_io_kfp.ipynb\" target='_blank'>\n",
    "      <img src=\"https://lh3.googleusercontent.com/UiNooY4LUgW_oTvpsNhPpQzsstV5W8F7rYgxgGBD85cWJoLmrOzhVs_ksK_vgx40SHs7jCqkTkCk=e14-rj-sc0xffffff-h130-w32\" alt=\"Vertex AI logo\"><br> Open in Vertex AI Workbench\n",
    "     </a>\n",
    "   </td>\n",
    "</table>\n",
    "<br/><br/><br/>"
   ]
  },
  {
   "cell_type": "markdown",
   "metadata": {
    "id": "overview:pipelines,lightweight"
   },
   "source": [
    "## Overview\n",
    "\n",
    "This notebooks shows how to use [the Kubeflow Pipelines (KFP) SDK](https://www.kubeflow.org/docs/components/pipelines/) to build [Vertex AI Pipelines](https://cloud.google.com/vertex-ai/docs/pipelines) that use lightweight Python function based components, as well as supporting component I/O using the KFP SDK.\n",
    "\n",
    "Learn more about [Vertex AI Pipelines](https://cloud.google.com/vertex-ai/docs/pipelines/introduction)."
   ]
  },
  {
   "cell_type": "markdown",
   "metadata": {
    "id": "objective:pipelines,lightweight"
   },
   "source": [
    "### Objective\n",
    "\n",
    "In this tutorial, you learn to use the KFP SDK to build lightweight Python function-based components, and then you learn to use Vertex AI Pipelines to execute the pipeline.\n",
    "\n",
    "This tutorial uses the following Google Cloud ML services:\n",
    "\n",
    "- Vertex AI Pipelines\n",
    "\n",
    "The steps performed include:\n",
    "\n",
    "- Build Python function-based KFP components.\n",
    "- Construct a KFP pipeline.\n",
    "- Pass *Artifacts* and *parameters* between components, both by path reference and by value.\n",
    "- Use the kfp.dsl.importer method.\n",
    "- Compile the KFP pipeline.\n",
    "- Execute the KFP pipeline using Vertex AI Pipelines"
   ]
  },
  {
   "cell_type": "markdown",
   "metadata": {
    "id": "what_is:kfp,lightweight"
   },
   "source": [
    "### KFP Python function-based components\n",
    "\n",
    "A Kubeflow pipeline component is a self-contained set of code that performs one step in your ML workflow. A pipeline component is composed of:\n",
    "\n",
    "* The component code, which implements the logic need to perform a step in your ML workflow.\n",
    "* A component specification, which defines the following:\n",
    "  * The component’s metadata, its name and description.\n",
    "  * The component’s interface, the component’s inputs and outputs.\n",
    "* The component’s implementation, the Docker container image to run, how to pass inputs to your component code, and how to get the component’s outputs.\n",
    "\n",
    "Lightweight Python function-based components make it easier to iterate quickly by letting you build your component code as a Python function and generating the component specification for you. This notebook shows how to create Python function-based components for use in [Vertex AI Pipelines](https://cloud.google.com/vertex-ai/docs/pipelines).\n",
    "\n",
    "Python function-based components use the Kubeflow Pipelines SDK to handle the complexity of passing inputs into your component and passing your function’s outputs back to your pipeline.\n",
    "\n",
    "There are two categories of inputs/outputs supported in Python function-based components: *artifacts* and *parameters*.\n",
    "\n",
    "* Parameters are passed to your component by value and typically contain `int`, `float`, `bool`, or small `string` values.\n",
    "* Artifacts are passed to your component as a *reference* to a path, to which you can write a file or a subdirectory structure. In addition to the artifact’s data, you can also read and write the artifact’s metadata. This lets you record arbitrary key-value pairs for an artifact such as the accuracy of a trained model, and use metadata in downstream components – for example, you could use metadata to decide if a model is accurate enough to deploy for predictions."
   ]
  },
  {
   "cell_type": "markdown",
   "metadata": {
    "id": "costs"
   },
   "source": [
    "### Costs\n",
    "\n",
    "This tutorial uses billable components of Google Cloud:\n",
    "\n",
    "* Vertex AI\n",
    "* Cloud Storage\n",
    "\n",
    "Learn about [Vertex AI pricing](https://cloud.google.com/vertex-ai/pricing) and\n",
    "[Cloud Storage pricing](https://cloud.google.com/storage/pricing) and use the\n",
    "[Pricing Calculator](https://cloud.google.com/products/calculator/)\n",
    "to generate a cost estimate based on your projected usage."
   ]
  },
  {
   "cell_type": "markdown",
   "metadata": {
    "id": "install_aip:mbsdk"
   },
   "source": [
    "## Get Started\n",
    "\n",
    "Install Vertex AI SDK for Python and other required packages"
   ]
  },
  {
   "cell_type": "code",
   "execution_count": null,
   "metadata": {
    "id": "-DMKx9wIjw0L"
   },
   "outputs": [],
   "source": [
    "! pip3 install --upgrade --quiet google-cloud-aiplatform \\\n",
    "                                 google-cloud-storage \\\n",
    "                                 kfp \\\n",
    "                                 \"numpy<2\" \\\n",
    "                                 google-cloud-pipeline-components"
   ]
  },
  {
   "cell_type": "markdown",
   "metadata": {
    "id": "gcp_authenticate"
   },
   "source": [
    "### Restart runtime (Colab only)\n",
    "Authenticate your environment on Google Colab."
   ]
  },
  {
   "cell_type": "code",
   "execution_count": null,
   "metadata": {
    "id": "21ad4dbb4a61"
   },
   "outputs": [],
   "source": [
    "import sys\n",
    "\n",
    "if \"google.colab\" in sys.modules:\n",
    "\n",
    "    import IPython\n",
    "\n",
    "    app = IPython.Application.instance()\n",
    "    app.kernel.do_shutdown(True)"
   ]
  },
  {
   "cell_type": "markdown",
   "metadata": {
    "id": "56e219dbcb9a"
   },
   "source": [
    "### Authenticate your notebook environment (Colab only)\n",
    "Authenticate your environment on Google Colab."
   ]
  },
  {
   "cell_type": "code",
   "execution_count": null,
   "metadata": {
    "id": "c97be6a73155"
   },
   "outputs": [],
   "source": [
    "# import sys\n",
    "\n",
    "# if \"google.colab\" in sys.modules:\n",
    "\n",
    "#     from google.colab import auth\n",
    "\n",
    "#     auth.authenticate_user()"
   ]
  },
  {
   "cell_type": "markdown",
   "metadata": {
    "id": "45b2362d4ce4"
   },
   "source": [
    "### Set Google Cloud project information\n",
    "Learn more about setting up a project and a development environment."
   ]
  },
  {
   "cell_type": "code",
   "execution_count": 2,
   "metadata": {
    "id": "oM1iC_MfAts1",
    "tags": []
   },
   "outputs": [],
   "source": [
    "PROJECT_ID = \"involuted-tuner-441406-a9\"  # @param {type:\"string\"}\n",
    "LOCATION = \"us-central1\"  # @param {type:\"string\"} # @param {type:\"string\"}"
   ]
  },
  {
   "cell_type": "markdown",
   "metadata": {
    "id": "zgPO1eR3CYjk"
   },
   "source": [
    "### Create a Cloud Storage bucket\n",
    "\n",
    "Create a storage bucket to store intermediate artifacts such as datasets.\n",
    "\n",
    "- *{Note to notebook author: For any user-provided strings that need to be unique (like bucket names or model ID's), append \"-unique\" to the end so proper testing can occur}*"
   ]
  },
  {
   "cell_type": "code",
   "execution_count": 3,
   "metadata": {
    "id": "MzGDU7TWdts_",
    "tags": []
   },
   "outputs": [],
   "source": [
    "BUCKET_URI = f\"gs://mlops-01-pipeline/pipeline_root_1\"  # @param {type:\"string\"}"
   ]
  },
  {
   "cell_type": "markdown",
   "metadata": {
    "id": "create_bucket"
   },
   "source": [
    "**If your bucket doesn't already exist**: Run the following cell to create your Cloud Storage bucket."
   ]
  },
  {
   "cell_type": "code",
   "execution_count": 3,
   "metadata": {
    "id": "NIq7R4HZCfIc",
    "tags": []
   },
   "outputs": [
    {
     "name": "stdout",
     "output_type": "stream",
     "text": [
      "CommandException: \"mb\" command does not support \"file://\" URLs. Did you mean to use a gs:// URL?\n"
     ]
    }
   ],
   "source": [
    "! gsutil mb -l {LOCATION} -p {PROJECT_ID} {BUCKET_URI}"
   ]
  },
  {
   "cell_type": "markdown",
   "metadata": {
    "id": "set_service_account"
   },
   "source": [
    "#### Service Account\n",
    "\n",
    "**If you don't know your service account**, try to get your service account using `gcloud` command by executing the second cell below."
   ]
  },
  {
   "cell_type": "code",
   "execution_count": null,
   "metadata": {
    "id": "1LpXAcKmjw0P"
   },
   "outputs": [],
   "source": [
    "# SERVICE_ACCOUNT = \"[your-service-account]\"  # @param {type:\"string\"}"
   ]
  },
  {
   "cell_type": "code",
   "execution_count": null,
   "metadata": {
    "id": "autoset_service_account"
   },
   "outputs": [],
   "source": [
    "# # import sys\n",
    "\n",
    "# IS_COLAB = \"google.colab\" in sys.modules\n",
    "# if (\n",
    "#     SERVICE_ACCOUNT == \"\"\n",
    "#     or SERVICE_ACCOUNT is None\n",
    "#     or SERVICE_ACCOUNT == \"[your-service-account]\"\n",
    "# ):\n",
    "#     # Get your service account from gcloud\n",
    "#     if not IS_COLAB:\n",
    "#         shell_output = !gcloud auth list 2>/dev/null\n",
    "#         SERVICE_ACCOUNT = shell_output[2].replace(\"*\", \"\").strip()\n",
    "\n",
    "#     if IS_COLAB:\n",
    "#         shell_output = ! gcloud projects describe  $PROJECT_ID\n",
    "#         project_number = shell_output[-1].split(\":\")[1].strip().replace(\"'\", \"\")\n",
    "#         SERVICE_ACCOUNT = f\"{project_number}-compute@developer.gserviceaccount.com\"\n",
    "\n",
    "#     print(\"Service Account:\", SERVICE_ACCOUNT)"
   ]
  },
  {
   "cell_type": "markdown",
   "metadata": {
    "id": "set_service_account:pipelines"
   },
   "source": [
    "#### Set service account access for Vertex AI Pipelines\n",
    "\n",
    "Run the following commands to grant your service account access to read and write pipeline artifacts in the bucket that you created in the previous step -- you only need to run these once per service account."
   ]
  },
  {
   "cell_type": "code",
   "execution_count": 1,
   "metadata": {
    "id": "b0Ik18zxjw0P",
    "tags": []
   },
   "outputs": [],
   "source": [
    "# ! gsutil iam ch serviceAccount:{SERVICE_ACCOUNT}:roles/storage.objectCreator $BUCKET_URI\n",
    "\n",
    "# ! gsutil iam ch serviceAccount:{SERVICE_ACCOUNT}:roles/storage.objectViewer $BUCKET_URI"
   ]
  },
  {
   "cell_type": "markdown",
   "metadata": {
    "id": "setup_vars"
   },
   "source": [
    "### Set up variables\n",
    "\n",
    "Next, set up some variables used throughout the tutorial.\n",
    "### Import libraries and define constants"
   ]
  },
  {
   "cell_type": "code",
   "execution_count": 4,
   "metadata": {
    "id": "import_aip:mbsdk",
    "tags": []
   },
   "outputs": [],
   "source": [
    "from typing import NamedTuple\n",
    "import kfp\n",
    "from google.cloud import aiplatform\n",
    "from kfp import compiler, dsl\n",
    "from kfp.dsl import (Artifact, Dataset, Input, InputPath, Model, Output,\n",
    "                     OutputPath, component)"
   ]
  },
  {
   "cell_type": "markdown",
   "metadata": {
    "id": "pipeline_constants"
   },
   "source": [
    "#### Vertex AI Pipelines constants\n",
    "\n",
    "Set up up the following constants for Vertex AI Pipelines:"
   ]
  },
  {
   "cell_type": "code",
   "execution_count": 5,
   "metadata": {
    "id": "QEYXLiwDjw0Q",
    "tags": []
   },
   "outputs": [],
   "source": [
    "PIPELINE_ROOT = \"{}/pipeline_root/shakespeare\".format(BUCKET_URI)"
   ]
  },
  {
   "cell_type": "markdown",
   "metadata": {
    "id": "init_aip:mbsdk"
   },
   "source": [
    "## Initialize Vertex AI SDK for Python\n",
    "\n",
    "Initialize the Vertex AI SDK for Python for your project and corresponding bucket."
   ]
  },
  {
   "cell_type": "code",
   "execution_count": 6,
   "metadata": {
    "id": "4X89ibNajw0R",
    "tags": []
   },
   "outputs": [],
   "source": [
    "aiplatform.init(project=PROJECT_ID, staging_bucket=BUCKET_URI)"
   ]
  },
  {
   "cell_type": "markdown",
   "metadata": {
    "id": "define_component:lightweight,preprocess"
   },
   "source": [
    "### Define Python function-based pipeline components\n",
    "\n",
    "In this tutorial, you define function-based components that consume parameters and produce (typed) Artifacts and parameters. Functions can produce Artifacts in three ways:\n",
    "\n",
    "* Accept an output local path using `OutputPath`\n",
    "* Accept an `OutputArtifact` which gives the function a handle to the output artifact's metadata\n",
    "* Return an `Artifact` (or `Dataset`, `Model`, `Metrics`, etc) in a `NamedTuple`\n",
    "\n",
    "These options for producing Artifacts are demonstrated.\n",
    "\n",
    "#### Define preprocess component\n",
    "\n",
    "The first component definition, `preprocess`, shows a component that outputs two `Dataset` Artifacts, as well as an output parameter.  (For this example, the datasets don't reflect real data).\n",
    "\n",
    "For the parameter output, you would typically use the approach shown here, using the `OutputPath` type, for \"larger\" data.\n",
    "For \"small data\", like a short string, it might be more convenient to use the `NamedTuple` function output as shown in the second component instead."
   ]
  },
  {
   "cell_type": "code",
   "execution_count": 8,
   "metadata": {
    "id": "-emi-PhSjw0R",
    "tags": []
   },
   "outputs": [],
   "source": [
    "# @component(base_image=\"python:3.9\")\n",
    "# def preprocess(\n",
    "#     # An input parameter of type string.\n",
    "#     message: str,\n",
    "#     # Use Output to get a metadata-rich handle to the output artifact\n",
    "#     # of type `Dataset`.\n",
    "#     output_dataset_one: Output[Dataset],\n",
    "#     # A locally accessible filepath for another output artifact of type\n",
    "#     # `Dataset`.\n",
    "#     output_dataset_two_path: OutputPath(\"Dataset\"),\n",
    "#     # A locally accessible filepath for an output parameter of type string.\n",
    "#     output_parameter_path: OutputPath(str),\n",
    "# ):\n",
    "#     \"\"\"'Mock' preprocessing step.\n",
    "#     Writes out the passed in message to the output \"Dataset\"s and the output message.\n",
    "#     \"\"\"\n",
    "#     output_dataset_one.metadata[\"hello\"] = \"there\"\n",
    "#     # Use OutputArtifact.path to access a local file path for writing.\n",
    "#     # One can also use OutputArtifact.uri to access the actual URI file path.\n",
    "#     with open(output_dataset_one.path, \"w\") as f:\n",
    "#         f.write(message)\n",
    "\n",
    "#     # OutputPath is used to just pass the local file path of the output artifact\n",
    "#     # to the function.\n",
    "#     with open(output_dataset_two_path, \"w\") as f:\n",
    "#         f.write(message)\n",
    "\n",
    "#     with open(output_parameter_path, \"w\") as f:\n",
    "#         f.write(message)"
   ]
  },
  {
   "cell_type": "markdown",
   "metadata": {
    "id": "define_component:lightweight,train"
   },
   "source": [
    "#### Define train component\n",
    "\n",
    "The second component definition, `train`, defines as input both an `InputPath` of type `Dataset`, and an `InputArtifact` of type `Dataset` (as well as other parameter inputs). It uses the `NamedTuple` format for function output.  As shown, these outputs can be Artifacts as well as parameters.\n",
    "\n",
    "Additionally, this component writes some metrics metadata to the `model` output Artifact.  This information is displayed in the Cloud Console user interface when the pipeline runs."
   ]
  },
  {
   "cell_type": "code",
   "execution_count": 46,
   "metadata": {
    "id": "ft9EhD7rjw0R",
    "tags": []
   },
   "outputs": [],
   "source": [
    "# @component(\n",
    "#     base_image=\"python:3.9\",\n",
    "#     packages_to_install=[\n",
    "#         \"scikit-learn\",\n",
    "#         \"pandas\",\n",
    "#         \"numpy\"\n",
    "#     ]\n",
    "# )\n",
    "# def train(\n",
    "#     imported_dataset: Input[Dataset],\n",
    "# ) -> NamedTuple(\n",
    "#     \"Outputs\",\n",
    "#     [\n",
    "#         (\"output_message\", str),\n",
    "#         (\"model_accuracy\", float),\n",
    "#     ],\n",
    "# ):\n",
    "#     \"\"\"Training step using scikit-learn logistic regression.\n",
    "#     Loads data from the imported dataset, trains a logistic regression model,\n",
    "#     and returns the accuracy metrics.\n",
    "    \n",
    "#     Args:\n",
    "#         imported_dataset: Input dataset for training\n",
    "        \n",
    "#     Returns:\n",
    "#         NamedTuple containing output message and model accuracy\n",
    "#     \"\"\"\n",
    "#     # Add error handling and logging\n",
    "#     import logging\n",
    "#     logging.basicConfig(level=logging.INFO)\n",
    "#     logger = logging.getLogger(__name__)\n",
    "    \n",
    "#     try:\n",
    "#         import pandas as pd\n",
    "#         from sklearn.linear_model import LogisticRegression\n",
    "#         from sklearn.model_selection import train_test_split\n",
    "#         from sklearn.metrics import accuracy_score\n",
    "        \n",
    "#         logger.info(\"Successfully imported all required packages\")\n",
    "        \n",
    "#         # Load dataset\n",
    "#         logger.info(f\"Loading dataset from: {imported_dataset.path}\")\n",
    "#         df = pd.read_csv(imported_dataset.path)\n",
    "#         logger.info(f\"Dataset shape: {df.shape}\")\n",
    "        \n",
    "#         # Split features and target\n",
    "#         X = df.iloc[:, :-1]\n",
    "#         y = df.iloc[:, -1]\n",
    "#         logger.info(f\"Features shape: {X.shape}, Target shape: {y.shape}\")\n",
    "        \n",
    "#         # Split the data\n",
    "#         X_train, X_test, y_train, y_test = train_test_split(\n",
    "#             X, y, test_size=0.2, random_state=42\n",
    "#         )\n",
    "#         logger.info(f\"Training set size: {X_train.shape[0]}, Test set size: {X_test.shape[0]}\")\n",
    "        \n",
    "#         # Train logistic regression model\n",
    "#         lr_model = LogisticRegression(max_iter=1000)\n",
    "#         logger.info(\"Training logistic regression model...\")\n",
    "#         lr_model.fit(X_train, y_train)\n",
    "        \n",
    "#         # Make predictions and calculate accuracy\n",
    "#         y_pred = lr_model.predict(X_test)\n",
    "#         accuracy = accuracy_score(y_test, y_pred)\n",
    "#         logger.info(f\"Model training completed. Accuracy: {accuracy:.4f}\")\n",
    "        \n",
    "#         # Create output message\n",
    "#         output_message = f\"Model trained successfully with accuracy: {accuracy:.4f}\"\n",
    "        \n",
    "#         return (output_message, float(accuracy))\n",
    "        \n",
    "#     except Exception as e:\n",
    "#         logger.error(f\"An error occurred: {str(e)}\")\n",
    "#         raise RuntimeError(f\"Training failed: {str(e)}\")"
   ]
  },
  {
   "cell_type": "code",
   "execution_count": 14,
   "metadata": {
    "tags": []
   },
   "outputs": [],
   "source": [
    "# @component(\n",
    "#     base_image=\"python:3.9\",\n",
    "#     packages_to_install=[\n",
    "#         \"scikit-learn\",\n",
    "#         \"pandas\",\n",
    "#         \"numpy\",\n",
    "#         \"google-cloud-storage\"\n",
    "#     ]\n",
    "# )\n",
    "# def train(\n",
    "#     imported_dataset: Input[Dataset],\n",
    "# ) -> NamedTuple(\n",
    "#     \"Outputs\",\n",
    "#     [\n",
    "#         (\"output_message\", str),\n",
    "#         (\"model_accuracy\", float),\n",
    "#     ],\n",
    "# ):\n",
    "#     \"\"\"Training step using scikit-learn logistic regression.\n",
    "#     Loads data from the imported dataset, trains a logistic regression model,\n",
    "#     saves it to GCS, and returns the accuracy metrics.\n",
    "#     \"\"\"\n",
    "#     import logging\n",
    "#     import os\n",
    "#     from google.cloud import storage\n",
    "#     import tempfile\n",
    "    \n",
    "#     logging.basicConfig(level=logging.INFO)\n",
    "#     logger = logging.getLogger(__name__)\n",
    "    \n",
    "#     try:\n",
    "#         import pandas as pd\n",
    "#         import joblib\n",
    "#         from sklearn.linear_model import LogisticRegression\n",
    "#         from sklearn.model_selection import train_test_split\n",
    "#         from sklearn.metrics import accuracy_score\n",
    "        \n",
    "#         logger.info(\"Successfully imported all required packages\")\n",
    "        \n",
    "#         # Load dataset\n",
    "#         logger.info(f\"Loading dataset from: {imported_dataset.path}\")\n",
    "#         df = pd.read_csv(imported_dataset.path)\n",
    "#         logger.info(f\"Dataset shape: {df.shape}\")\n",
    "        \n",
    "#         # Split features and target\n",
    "#         X = df.iloc[:, :-1]\n",
    "#         y = df.iloc[:, -1]\n",
    "#         logger.info(f\"Features shape: {X.shape}, Target shape: {y.shape}\")\n",
    "        \n",
    "#         # Split the data\n",
    "#         X_train, X_test, y_train, y_test = train_test_split(\n",
    "#             X, y, test_size=0.2, random_state=42\n",
    "#         )\n",
    "#         logger.info(f\"Training set size: {X_train.shape[0]}, Test set size: {X_test.shape[0]}\")\n",
    "        \n",
    "#         # Train logistic regression model\n",
    "#         lr_model = LogisticRegression(max_iter=1000)\n",
    "#         logger.info(\"Training logistic regression model...\")\n",
    "#         lr_model.fit(X_train, y_train)\n",
    "        \n",
    "#         # Make predictions and calculate accuracy\n",
    "#         y_pred = lr_model.predict(X_test)\n",
    "#         accuracy = accuracy_score(y_test, y_pred)\n",
    "#         logger.info(f\"Model training completed. Accuracy: {accuracy:.4f}\")\n",
    "        \n",
    "#         # Save model to GCS\n",
    "#         bucket_name = \"mlops-01-pipeline\"  # Replace with your bucket name\n",
    "#         model_filename = \"model.joblib\"\n",
    "        \n",
    "#         # Create a temporary directory\n",
    "#         with tempfile.TemporaryDirectory() as temp_dir:\n",
    "#             temp_model_path = os.path.join(temp_dir, model_filename)\n",
    "            \n",
    "#             # Save model to temporary file\n",
    "#             logger.info(f\"Saving model to temporary file: {temp_model_path}\")\n",
    "#             joblib.dump(lr_model, temp_model_path)\n",
    "            \n",
    "#             # Initialize GCS client\n",
    "#             storage_client = storage.Client()\n",
    "#             bucket = storage_client.bucket(bucket_name)\n",
    "            \n",
    "#             # Upload to GCS\n",
    "#             blob = bucket.blob(model_filename)\n",
    "#             logger.info(f\"Uploading model to GCS: gs://{bucket_name}/{model_filename}\")\n",
    "#             blob.upload_from_filename(temp_model_path)\n",
    "#             logger.info(\"Model successfully uploaded to GCS\")\n",
    "        \n",
    "#         # Create output message\n",
    "#         output_message = (\n",
    "#             f\"Model trained successfully with accuracy: {accuracy:.4f}. \"\n",
    "#             f\"Model saved to: gs://{bucket_name}/{model_filename}\"\n",
    "#         )\n",
    "        \n",
    "#         return (output_message, float(accuracy))\n",
    "        \n",
    "#     except Exception as e:\n",
    "#         logger.error(f\"An error occurred: {str(e)}\")\n",
    "#         raise RuntimeError(f\"Training failed: {str(e)}\")\n",
    "\n"
   ]
  },
  {
   "cell_type": "code",
   "execution_count": 49,
   "metadata": {
    "tags": []
   },
   "outputs": [],
   "source": [
    "# @dsl.component(\n",
    "#     base_image=\"python:3.9\",\n",
    "#     packages_to_install=[\n",
    "#         \"scikit-learn\",\n",
    "#         \"pandas\",\n",
    "#         \"numpy\",\n",
    "#         \"google-cloud-storage\"\n",
    "#     ]\n",
    "# )\n",
    "# def feature_engineering(imported_dataset: Dataset) -> Dataset:\n",
    "#     \"\"\"\n",
    "#     Perform feature engineering on the imported dataset.\n",
    "#     Args:\n",
    "#         imported_dataset: The dataset to perform feature engineering on.\n",
    "\n",
    "#     Returns:\n",
    "#         A Dataset object with engineered features.\n",
    "#     \"\"\"\n",
    "#     # Simulate feature engineering logic here (e.g., normalization, transformation, etc.)\n",
    "#     # This is a placeholder for actual feature engineering code.\n",
    "#     pass"
   ]
  },
  {
   "cell_type": "code",
   "execution_count": 7,
   "metadata": {
    "tags": []
   },
   "outputs": [],
   "source": [
    "@component(\n",
    "    base_image=\"python:3.9\",\n",
    "    packages_to_install=[\n",
    "        \"scikit-learn\",\n",
    "        \"pandas\",\n",
    "        \"numpy\",\n",
    "        \"google-cloud-storage\"\n",
    "    ]\n",
    ")\n",
    "def train(\n",
    "    imported_dataset: Input[Dataset],\n",
    "    # df: pandas.DataFrame\n",
    ") -> NamedTuple(\n",
    "    \"Outputs\",\n",
    "    [\n",
    "        (\"output_message\", str),\n",
    "        (\"model_accuracy\", float),\n",
    "    ],\n",
    "):\n",
    "    \"\"\"Training step using scikit-learn logistic regression.\n",
    "    Loads data from the imported dataset, trains a logistic regression model,\n",
    "    saves it to GCS in the models folder, and returns the accuracy metrics.\n",
    "    \"\"\"\n",
    "    import logging\n",
    "    import os\n",
    "    from google.cloud import storage\n",
    "    import tempfile\n",
    "    \n",
    "    logging.basicConfig(level=logging.INFO)\n",
    "    logger = logging.getLogger(__name__)\n",
    "    \n",
    "    try:\n",
    "        import pandas as pd\n",
    "        import joblib\n",
    "        from sklearn.linear_model import LogisticRegression\n",
    "        from sklearn.model_selection import train_test_split\n",
    "        from sklearn.metrics import accuracy_score\n",
    "        \n",
    "        logger.info(\"Successfully imported all required packages\")\n",
    "        \n",
    "        # Load dataset\n",
    "        logger.info(f\"Loading dataset from: {imported_dataset.path}\")\n",
    "        df = pd.read_csv(imported_dataset.path)\n",
    "        logger.info(f\"Dataset shape: {df.shape}\")\n",
    "        \n",
    "        # Split features and target\n",
    "        X = df.drop(columns=[\"Diabetic\", \"PatientID\"])\n",
    "        y = df[\"Diabetic\"]\n",
    "        logger.info(f\"Features shape: {X.shape}, Target shape: {y.shape}\")\n",
    "        \n",
    "        # Split the data\n",
    "        X_train, X_test, y_train, y_test = train_test_split(\n",
    "            X, y, test_size=0.2, random_state=42\n",
    "        )\n",
    "        logger.info(f\"Training set size: {X_train.shape[0]}, Test set size: {X_test.shape[0]}\")\n",
    "        \n",
    "        # Train logistic regression model\n",
    "        lr_model = LogisticRegression(max_iter=1000)\n",
    "        logger.info(\"Training logistic regression model...\")\n",
    "        lr_model.fit(X_train, y_train)\n",
    "        \n",
    "        # Make predictions and calculate accuracy\n",
    "        y_pred = lr_model.predict(X_test)\n",
    "        accuracy = accuracy_score(y_test, y_pred)\n",
    "        logger.info(f\"Model training completed. Accuracy: {accuracy:.4f}\")\n",
    "        \n",
    "        # Save model to GCS\n",
    "        bucket_name = \"mlops-01-pipeline\"\n",
    "        model_folder = \"models\"  # Folder in the bucket\n",
    "        model_filename = \"model.joblib\"\n",
    "        gcs_model_path = f\"{model_folder}/{model_filename}\"  # Path within bucket\n",
    "        \n",
    "        # Create a temporary directory\n",
    "        with tempfile.TemporaryDirectory() as temp_dir:\n",
    "            temp_model_path = os.path.join(temp_dir, model_filename)\n",
    "            \n",
    "            # Save model to temporary file\n",
    "            logger.info(f\"Saving model to temporary file: {temp_model_path}\")\n",
    "            joblib.dump(lr_model, temp_model_path)\n",
    "            \n",
    "            # Initialize GCS client\n",
    "            storage_client = storage.Client()\n",
    "            bucket = storage_client.bucket(bucket_name)\n",
    "            \n",
    "            # Upload to GCS in models folder\n",
    "            blob = bucket.blob(gcs_model_path)\n",
    "            logger.info(f\"Uploading model to GCS: gs://{bucket_name}/{gcs_model_path}\")\n",
    "            blob.upload_from_filename(temp_model_path)\n",
    "            logger.info(\"Model successfully uploaded to GCS\")\n",
    "        \n",
    "        # Create output message\n",
    "        output_message = (\n",
    "            f\"Model trained successfully with accuracy: {accuracy:.4f}. \"\n",
    "            f\"Model saved to: gs://{bucket_name}/{gcs_model_path}\"\n",
    "        )\n",
    "        \n",
    "        return (output_message, float(accuracy))\n",
    "        \n",
    "    except Exception as e:\n",
    "        logger.error(f\"An error occurred: {str(e)}\")\n",
    "        raise RuntimeError(f\"Training failed: {str(e)}\")"
   ]
  },
  {
   "cell_type": "code",
   "execution_count": null,
   "metadata": {
    "tags": []
   },
   "outputs": [],
   "source": [
    "@component(\n",
    "    base_image=\"python:3.9\",\n",
    "    packages_to_install=[\n",
    "        \"scikit-learn\",\n",
    "        \"pandas\",\n",
    "        \"numpy\",\n",
    "        \"google-cloud-storage\"\n",
    "    ]\n",
    ")\n",
    "def train(\n",
    "    imported_dataset: Input[Dataset],\n",
    ") -> NamedTuple(\n",
    "    \"Outputs\",\n",
    "    [\n",
    "        (\"output_message\", str),\n",
    "        (\"model_accuracy\", float),\n",
    "    ],\n",
    "):\n",
    "    \"\"\"Training step using scikit-learn logistic regression.\n",
    "    Splits data into train/test sets, trains on training data,\n",
    "    saves model and test indices to GCS.\n",
    "    \"\"\"\n",
    "    import logging\n",
    "    import os\n",
    "    from google.cloud import storage\n",
    "    import tempfile\n",
    "    import numpy as np\n",
    "    import json\n",
    "    \n",
    "    logging.basicConfig(level=logging.INFO)\n",
    "    logger = logging.getLogger(__name__)\n",
    "    \n",
    "    try:\n",
    "        import pandas as pd\n",
    "        import joblib\n",
    "        from sklearn.linear_model import LogisticRegression\n",
    "        from sklearn.model_selection import train_test_split\n",
    "        from sklearn.metrics import accuracy_score\n",
    "        \n",
    "        logger.info(\"Successfully imported all required packages\")\n",
    "        \n",
    "        # Load dataset\n",
    "        logger.info(f\"Loading dataset from: {imported_dataset.path}\")\n",
    "        df = pd.read_csv(imported_dataset.path)\n",
    "        logger.info(f\"Dataset shape: {df.shape}\")\n",
    "        \n",
    "        # Split features and target\n",
    "        X = df.drop(columns=[\"Diabetic\", \"PatientID\"])\n",
    "        y = df[\"Diabetic\"]\n",
    "        \n",
    "        # Split the data and save test indices\n",
    "        X_train, X_test, y_train, y_test = train_test_split(\n",
    "            X, y, test_size=0.2, random_state=42\n",
    "        )\n",
    "        # Get test indices for later use\n",
    "        test_indices = X_test.index.tolist()\n",
    "        \n",
    "        logger.info(f\"Training set size: {X_train.shape[0]}, Test set size: {X_test.shape[0]}\")\n",
    "        \n",
    "        # Train logistic regression model\n",
    "        lr_model = LogisticRegression(max_iter=1000)\n",
    "        logger.info(\"Training logistic regression model...\")\n",
    "        lr_model.fit(X_train, y_train)\n",
    "        \n",
    "        # Make predictions and calculate accuracy on training data\n",
    "        y_pred = lr_model.predict(X_test)\n",
    "        accuracy = accuracy_score(y_test, y_pred)\n",
    "        logger.info(f\"Model training completed. Validation accuracy: {accuracy:.4f}\")\n",
    "        \n",
    "        # Save model and test indices to GCS\n",
    "        bucket_name = \"mlops-01-pipeline\"\n",
    "        model_folder = \"models\"\n",
    "        model_filename = \"model.joblib\"\n",
    "        indices_filename = \"test_indices.json\"\n",
    "        \n",
    "        gcs_model_path = f\"{model_folder}/{model_filename}\"\n",
    "        gcs_indices_path = f\"{model_folder}/{indices_filename}\"\n",
    "        \n",
    "        # Create a temporary directory\n",
    "        with tempfile.TemporaryDirectory() as temp_dir:\n",
    "            # Save model\n",
    "            temp_model_path = os.path.join(temp_dir, model_filename)\n",
    "            logger.info(f\"Saving model to temporary file: {temp_model_path}\")\n",
    "            joblib.dump(lr_model, temp_model_path)\n",
    "            \n",
    "            # Save test indices\n",
    "            temp_indices_path = os.path.join(temp_dir, indices_filename)\n",
    "            with open(temp_indices_path, 'w') as f:\n",
    "                json.dump({'test_indices': test_indices}, f)\n",
    "            \n",
    "            # Initialize GCS client\n",
    "            storage_client = storage.Client()\n",
    "            bucket = storage_client.bucket(bucket_name)\n",
    "            \n",
    "            # Upload model to GCS\n",
    "            model_blob = bucket.blob(gcs_model_path)\n",
    "            logger.info(f\"Uploading model to GCS: gs://{bucket_name}/{gcs_model_path}\")\n",
    "            model_blob.upload_from_filename(temp_model_path)\n",
    "            \n",
    "            # Upload test indices to GCS\n",
    "            indices_blob = bucket.blob(gcs_indices_path)\n",
    "            logger.info(f\"Uploading test indices to GCS: gs://{bucket_name}/{gcs_indices_path}\")\n",
    "            indices_blob.upload_from_filename(temp_indices_path)\n",
    "            \n",
    "            logger.info(\"Model and test indices successfully uploaded to GCS\")\n",
    "        \n",
    "        output_message = (\n",
    "            f\"Model trained successfully with validation accuracy: {accuracy:.4f}. \"\n",
    "            f\"Model saved to: gs://{bucket_name}/{gcs_model_path}\"\n",
    "        )\n",
    "        \n",
    "        return (output_message, float(accuracy))\n",
    "        \n",
    "    except Exception as e:\n",
    "        logger.error(f\"An error occurred: {str(e)}\")\n",
    "        raise RuntimeError(f\"Training failed: {str(e)}\")"
   ]
  },
  {
   "cell_type": "code",
   "execution_count": 8,
   "metadata": {
    "tags": []
   },
   "outputs": [],
   "source": [
    "@component(\n",
    "    base_image=\"python:3.9\",\n",
    "    packages_to_install=[\n",
    "        \"scikit-learn\",\n",
    "        \"pandas\", \n",
    "        \"numpy\",\n",
    "        \"google-cloud-storage\"\n",
    "    ]\n",
    ")\n",
    "def test(\n",
    "    imported_dataset: Input[Dataset],\n",
    ") -> NamedTuple(\n",
    "    \"Outputs\",\n",
    "    [\n",
    "        (\"metrics_gcs_path\", str),\n",
    "    ],\n",
    "):\n",
    "    \"\"\"Test step for evaluating the trained model.\n",
    "    Uses the same test split as training by loading saved test indices.\n",
    "    \"\"\"\n",
    "    import logging\n",
    "    import os\n",
    "    import json\n",
    "    from google.cloud import storage\n",
    "    import tempfile\n",
    "    from datetime import datetime\n",
    "    \n",
    "    logging.basicConfig(level=logging.INFO)\n",
    "    logger = logging.getLogger(__name__)\n",
    "    \n",
    "    try:\n",
    "        import pandas as pd\n",
    "        import joblib\n",
    "        from sklearn.metrics import accuracy_score, precision_score, recall_score, f1_score\n",
    "        \n",
    "        logger.info(\"Successfully imported all required packages\")\n",
    "        \n",
    "        # Constants\n",
    "        bucket_name = \"mlops-01-pipeline\"\n",
    "        model_folder = \"models\"\n",
    "        model_filename = \"model.joblib\"\n",
    "        metrics_folder=\"metrics\"\n",
    "        indices_filename = \"test_indices.json\"\n",
    "        \n",
    "        gcs_model_path = f\"{model_folder}/{model_filename}\"\n",
    "        gcs_indices_path = f\"{model_folder}/{indices_filename}\"\n",
    "        \n",
    "        # Load full dataset\n",
    "        logger.info(f\"Loading dataset from: {imported_dataset.path}\")\n",
    "        df = pd.read_csv(imported_dataset.path)\n",
    "        \n",
    "        # Initialize GCS client\n",
    "        storage_client = storage.Client()\n",
    "        bucket = storage_client.bucket(bucket_name)\n",
    "        \n",
    "        # Create a temporary directory\n",
    "        with tempfile.TemporaryDirectory() as temp_dir:\n",
    "            # Download model and test indices from GCS\n",
    "            temp_model_path = os.path.join(temp_dir, model_filename)\n",
    "            temp_indices_path = os.path.join(temp_dir, indices_filename)\n",
    "            \n",
    "            # Download model\n",
    "            model_blob = bucket.blob(gcs_model_path)\n",
    "            logger.info(f\"Downloading model from GCS: gs://{bucket_name}/{gcs_model_path}\")\n",
    "            model_blob.download_to_filename(temp_model_path)\n",
    "            \n",
    "            # Download test indices\n",
    "            indices_blob = bucket.blob(gcs_indices_path)\n",
    "            logger.info(f\"Downloading test indices from GCS: gs://{bucket_name}/{gcs_indices_path}\")\n",
    "            indices_blob.download_to_filename(temp_indices_path)\n",
    "            \n",
    "            # Load model and test indices\n",
    "            model = joblib.load(temp_model_path)\n",
    "            with open(temp_indices_path, 'r') as f:\n",
    "                test_indices = json.load(f)['test_indices']\n",
    "            \n",
    "            # Prepare test features and target using saved indices\n",
    "            test_df = df.iloc[test_indices]\n",
    "            X_test = test_df.drop(columns=[\"Diabetic\", \"PatientID\"])\n",
    "            y_test = test_df[\"Diabetic\"]\n",
    "            \n",
    "            logger.info(f\"Test set size: {len(test_indices)}\")\n",
    "            \n",
    "            # Make predictions\n",
    "            logger.info(\"Making predictions on test data\")\n",
    "            y_pred = model.predict(X_test)\n",
    "            \n",
    "            # Calculate metrics\n",
    "            metrics = {\n",
    "                \"accuracy\": str(accuracy_score(y_test, y_pred)),\n",
    "                \"precision\": str(precision_score(y_test, y_pred)),\n",
    "                \"recall\": str(recall_score(y_test, y_pred)),\n",
    "                \"f1_score\": str(f1_score(y_test, y_pred)),\n",
    "                \"timestamp\": str(datetime.now().strftime(\"%Y-%m-%d_%H-%M-%S\"))\n",
    "            }\n",
    "            \n",
    "            logger.info(f\"Evaluation metrics: {metrics}\")\n",
    "            timestamp = datetime.now().strftime(\"%Y%m%d_%H%M%S\")\n",
    "            \n",
    "            # Create metrics filename using same base name as model\n",
    "            # metrics_filename = model_filename.replace('.joblib', f'_metrics_{timestamp}.json')\n",
    "\n",
    "            # Define the path where you want to store the metrics (e.g., in the 'metrics' folder)\n",
    "            # metrics_folder = \"metrics\"\n",
    "            # os.makedirs(metrics_folder, exist_ok=True)  # Create the 'metrics' folder if it doesn't exist\n",
    "\n",
    "            # GCS Path where you will store the metrics\n",
    "            # metrics_gcs_path = f\"{metrics_folder}/{metrics_filename}\"\n",
    "            \n",
    "            metrics_filename = model_filename.replace('.joblib', f'{timestamp}_metrics.json')\n",
    "            metrics_gcs_path = f\"{metrics_folder}/{metrics_filename}\"\n",
    "            \n",
    "            # Save metrics to temporary JSON file\n",
    "            temp_metrics_path = os.path.join(temp_dir, metrics_filename)\n",
    "            with open(temp_metrics_path, 'w') as f:\n",
    "                json.dump(metrics, f, indent=4)\n",
    "            \n",
    "            # Upload metrics to GCS\n",
    "            metrics_blob = bucket.blob(metrics_gcs_path)\n",
    "            logger.info(f\"Uploading metrics to GCS: gs://{bucket_name}/{metrics_gcs_path}\")\n",
    "            metrics_blob.upload_from_filename(temp_metrics_path)\n",
    "            logger.info(\"Metrics successfully uploaded to GCS\")\n",
    "        \n",
    "        return (f\"gs://{bucket_name}/{metrics_gcs_path}\",)\n",
    "        \n",
    "    except Exception as e:\n",
    "        logger.error(f\"An error occurred: {str(e)}\")\n",
    "        raise RuntimeError(f\"Testing failed: {str(e)}\")"
   ]
  },
  {
   "cell_type": "code",
   "execution_count": 9,
   "metadata": {
    "tags": []
   },
   "outputs": [],
   "source": []
  },
  {
   "cell_type": "code",
   "execution_count": 9,
   "metadata": {
    "id": "MIoOTJVyjw0S",
    "tags": []
   },
   "outputs": [],
   "source": [
    "@component(\n",
    "    base_image=\"python:3.9\",\n",
    "    packages_to_install=[\n",
    "        \"google-cloud-aiplatform\",\n",
    "    ]\n",
    ")\n",
    "def deploy_model(\n",
    "    project: str = \"your-project-id\",  # Replace with your project ID\n",
    "    location: str = \"us-central1\",     # Replace with your desired location\n",
    "    description: str= \"metrics path\",\n",
    "    bucket_name: str = \"mlops-01-pipeline\",\n",
    "    model_filename: str = \"model.joblib\",\n",
    ") -> NamedTuple(\n",
    "    \"Outputs\",\n",
    "    [\n",
    "        (\"endpoint_name\", str),\n",
    "        (\"model_name\", str),\n",
    "    ],\n",
    "):\n",
    "    \"\"\"\n",
    "    Uploads a trained model to Vertex AI and deploys it to an endpoint.\n",
    "    \n",
    "    Args:\n",
    "        project: GCP project ID\n",
    "        location: GCP region\n",
    "        bucket_name: GCS bucket name where model is stored\n",
    "        model_filename: Name of the model file in GCS\n",
    "    \n",
    "    Returns:\n",
    "        NamedTuple containing endpoint and model names\n",
    "    \"\"\"\n",
    "    import logging\n",
    "    from google.cloud import aiplatform\n",
    "    \n",
    "    logging.basicConfig(level=logging.INFO)\n",
    "    logger = logging.getLogger(__name__)\n",
    "    \n",
    "    try:\n",
    "        # Initialize Vertex AI\n",
    "        aiplatform.init(\n",
    "            project=project,\n",
    "            location=location,\n",
    "        )\n",
    "        \n",
    "        # Construct GCS URI for the model\n",
    "        gcs_model_uri = f\"gs://{bucket_name}/models\"\n",
    "        logger.info(f\"Model URI: {gcs_model_uri}\")\n",
    "        \n",
    "        # Generate unique names for model and endpoint\n",
    "        import datetime\n",
    "        timestamp = datetime.datetime.now().strftime(\"%Y%m%d_%H%M%S\")\n",
    "        model_display_name = f\"diabetes_prediction_{timestamp}\"\n",
    "        endpoint_display_name = f\"diabetes_endpoint_{timestamp}\"\n",
    "        \n",
    "        logger.info(f\"Uploading model: {model_display_name}\")\n",
    "        # Upload model to Vertex AI\n",
    "        model = aiplatform.Model.upload(\n",
    "            display_name=model_display_name,\n",
    "            artifact_uri=gcs_model_uri,\n",
    "            serving_container_image_uri=\"us-docker.pkg.dev/vertex-ai/prediction/sklearn-cpu.1-5:latest\",\n",
    "            description=description\n",
    "        )\n",
    "        logger.info(f\"Model uploaded successfully: {model.resource_name}\")\n",
    "        \n",
    "        logger.info(f\"Deploying model to endpoint: {endpoint_display_name}\")\n",
    "        # Deploy model to endpoint\n",
    "        endpoint = model.deploy(\n",
    "            deployed_model_display_name=endpoint_display_name,\n",
    "            machine_type=\"n1-standard-2\",\n",
    "        )\n",
    "        logger.info(f\"Model deployed successfully to endpoint: {endpoint.resource_name}\")\n",
    "        \n",
    "        return (endpoint.resource_name, model.resource_name)\n",
    "        \n",
    "    except Exception as e:\n",
    "        logger.error(f\"An error occurred during model deployment: {str(e)}\")\n",
    "        raise RuntimeError(f\"Model deployment failed: {str(e)}\")"
   ]
  },
  {
   "cell_type": "markdown",
   "metadata": {
    "id": "define_pipeline:kfp,importer"
   },
   "source": [
    "### Define a pipeline that uses your components and the Importer\n",
    "\n",
    "Next, define a pipeline that uses the components that were built in the previous sections, and also shows the use of the `kfp.dsl.importer`.\n",
    "\n",
    "This example uses the `importer` to create, in this case, a `Dataset` artifact from an existing URI.\n",
    "\n",
    "Note that the `train_task` step takes as inputs three of the outputs of the `preprocess_task` step, as well as the output of the `importer` step.\n",
    "In the \"train\" inputs we refer to the `preprocess`  `output_parameter`, which gives us the output string directly.\n",
    "\n",
    "The `read_task` step takes as input the `train_task` `generic_artifact` output."
   ]
  },
  {
   "cell_type": "code",
   "execution_count": 11,
   "metadata": {
    "id": "jTCwUznYjw0S",
    "tags": []
   },
   "outputs": [],
   "source": [
    "@dsl.pipeline(\n",
    "    pipeline_root=PIPELINE_ROOT,\n",
    "    name=\"metadata-pipeline-v2\",\n",
    ")\n",
    "def pipeline(message: str):\n",
    "    importer = kfp.dsl.importer(\n",
    "        artifact_uri=\"gs://mlops-01-pipeline/Dataset_diabetes-dev.csv\",\n",
    "        artifact_class=Dataset,\n",
    "        reimport=False,\n",
    "    )\n",
    "    # preprocess_task = preprocess(message=message)\n",
    "    train_task = train(\n",
    "        imported_dataset=importer.output)\n",
    "    \n",
    "    test_task=test(imported_dataset=importer.output).after(train_task)\n",
    "    # Deploy model\n",
    "    deploy_task = deploy_model(\n",
    "        project=\"involuted-tuner-441406-a9\",  # Replace with your project ID\n",
    "        location=\"us-central1\",# Replace with your desired location\n",
    "        description=test_task.outputs[\"metrics_gcs_path\"]\n",
    "    ).after(test_task)  # Ensure deployment happens after training\n",
    "\n",
    "    "
   ]
  },
  {
   "cell_type": "code",
   "execution_count": null,
   "metadata": {
    "tags": []
   },
   "outputs": [],
   "source": [
    "# @dsl.pipeline(\n",
    "#     # Default pipeline root. You can override it when submitting the pipeline.\n",
    "#     pipeline_root=PIPELINE_ROOT,\n",
    "#     # A name for the pipeline. Use to determine the pipeline Context.\n",
    "#     name=\"metadata-pipeline-v2\",\n",
    "# )\n",
    "# def pipeline(message: str):\n",
    "#     importer = dsl.importer(\n",
    "#         artifact_uri=\"gs://mlops-01-pipeline/Dataset_diabetes-dev.csv\",\n",
    "#         artifact_class=Dataset,\n",
    "#         reimport=False,\n",
    "#     )\n",
    "    \n",
    "#     # Feature engineering task\n",
    "#     feature_engineering_task = feature_engineering(imported_dataset=importer.output)\n",
    "    \n",
    "#     # Training task\n",
    "#     train_task = train(\n",
    "#         imported_dataset=feature_engineering_task.output,\n",
    "#     )\n",
    "    \n",
    "#     # Deploy model task\n",
    "#     deploy_task = deploy_model(\n",
    "#         project=\"involuted-tuner-441406-a9\",  # Replace with your project ID\n",
    "#         location=\"us-central1\",  # Replace with your desired location\n",
    "#     ).after(train_task)  # Ensure deployment happens after training"
   ]
  },
  {
   "cell_type": "markdown",
   "metadata": {
    "id": "compile_pipeline"
   },
   "source": [
    "## Compile the pipeline\n",
    "\n",
    "Next, compile the pipeline."
   ]
  },
  {
   "cell_type": "code",
   "execution_count": 12,
   "metadata": {
    "id": "FJR9mbP9jw0T",
    "tags": []
   },
   "outputs": [],
   "source": [
    "compiler.Compiler().compile(\n",
    "    pipeline_func=pipeline, package_path=\"lightweight_pipeline.yaml\"\n",
    ")"
   ]
  },
  {
   "cell_type": "markdown",
   "metadata": {
    "id": "run_pipeline:lightweight"
   },
   "source": [
    "## Run the pipeline\n",
    "\n",
    "Next, run the pipeline."
   ]
  },
  {
   "cell_type": "code",
   "execution_count": 13,
   "metadata": {
    "id": "7ABZ44Dyjw0Z",
    "tags": []
   },
   "outputs": [
    {
     "name": "stdout",
     "output_type": "stream",
     "text": [
      "Creating PipelineJob\n",
      "PipelineJob created. Resource name: projects/260483181843/locations/us-central1/pipelineJobs/metadata-pipeline-v2-20250128092447\n",
      "To use this PipelineJob in another session:\n",
      "pipeline_job = aiplatform.PipelineJob.get('projects/260483181843/locations/us-central1/pipelineJobs/metadata-pipeline-v2-20250128092447')\n",
      "View Pipeline Job:\n",
      "https://console.cloud.google.com/vertex-ai/locations/us-central1/pipelines/runs/metadata-pipeline-v2-20250128092447?project=260483181843\n",
      "PipelineJob projects/260483181843/locations/us-central1/pipelineJobs/metadata-pipeline-v2-20250128092447 current state:\n",
      "PipelineState.PIPELINE_STATE_RUNNING\n",
      "PipelineJob projects/260483181843/locations/us-central1/pipelineJobs/metadata-pipeline-v2-20250128092447 current state:\n",
      "PipelineState.PIPELINE_STATE_RUNNING\n",
      "PipelineJob projects/260483181843/locations/us-central1/pipelineJobs/metadata-pipeline-v2-20250128092447 current state:\n",
      "PipelineState.PIPELINE_STATE_RUNNING\n",
      "PipelineJob projects/260483181843/locations/us-central1/pipelineJobs/metadata-pipeline-v2-20250128092447 current state:\n",
      "PipelineState.PIPELINE_STATE_RUNNING\n",
      "PipelineJob projects/260483181843/locations/us-central1/pipelineJobs/metadata-pipeline-v2-20250128092447 current state:\n",
      "PipelineState.PIPELINE_STATE_RUNNING\n",
      "PipelineJob projects/260483181843/locations/us-central1/pipelineJobs/metadata-pipeline-v2-20250128092447 current state:\n",
      "PipelineState.PIPELINE_STATE_RUNNING\n",
      "PipelineJob projects/260483181843/locations/us-central1/pipelineJobs/metadata-pipeline-v2-20250128092447 current state:\n",
      "PipelineState.PIPELINE_STATE_RUNNING\n",
      "PipelineJob run completed. Resource name: projects/260483181843/locations/us-central1/pipelineJobs/metadata-pipeline-v2-20250128092447\n"
     ]
    }
   ],
   "source": [
    "DISPLAY_NAME = \"shakespeare\"\n",
    "\n",
    "job = aiplatform.PipelineJob(\n",
    "    display_name=DISPLAY_NAME,\n",
    "    template_path=\"lightweight_pipeline.yaml\",\n",
    "    pipeline_root=PIPELINE_ROOT,\n",
    "    parameter_values={\"message\": \"Hello, World\"},\n",
    "    enable_caching=False,\n",
    ")\n",
    "\n",
    "job.run()"
   ]
  },
  {
   "cell_type": "markdown",
   "metadata": {
    "id": "view_pipeline_run:lightweight"
   },
   "source": [
    "Click on the generated link to see your run in the Cloud Console.\n",
    "\n",
    "<!-- It should look something like this as it's running:\n",
    "\n",
    "<a href=\"https://storage.googleapis.com/amy-jo/images/mp/automl_tabular_classif.png\" target=\"_blank\"><img src=\"https://storage.googleapis.com/amy-jo/images/mp/automl_tabular_classif.png\" width=\"40%\"/></a> -->\n",
    "\n",
    "In the Google Cloud console, many of the pipeline DAG nodes expand or collapse when you click on them. Here is a partially-expanded view of the DAG (click image to see larger version).\n",
    "\n",
    "<a href=\"https://storage.googleapis.com/amy-jo/images/mp/artifact_io2.png\" target=\"_blank\"><img src=\"https://storage.googleapis.com/amy-jo/images/mp/artifact_io2.png\" width=\"95%\"/></a>"
   ]
  },
  {
   "cell_type": "markdown",
   "metadata": {
    "id": "2ba7c8f55afc"
   },
   "source": [
    "### Delete the pipeline job\n",
    "\n",
    "You can delete the pipeline job with the method `delete()`.job.delete()"
   ]
  },
  {
   "cell_type": "code",
   "execution_count": null,
   "metadata": {
    "id": "425adbf24044"
   },
   "outputs": [],
   "source": [
    "job.delete()"
   ]
  },
  {
   "cell_type": "markdown",
   "metadata": {
    "id": "cleanup:pipelines"
   },
   "source": [
    "# Cleaning up\n",
    "\n",
    "To clean up all Google Cloud resources used in this project, you can [delete the Google Cloud\n",
    "project](https://cloud.google.com/resource-manager/docs/creating-managing-projects#shutting_down_projects) you used for the tutorial.\n",
    "\n",
    "Otherwise, you can delete the individual resources you created in this tutorial."
   ]
  },
  {
   "cell_type": "code",
   "execution_count": null,
   "metadata": {
    "id": "mQ1B5zaMjw0a"
   },
   "outputs": [],
   "source": [
    "delete_bucket = False\n",
    "\n",
    "if delete_bucket:\n",
    "    ! gsutil rm -r $BUCKET_URI\n",
    "\n",
    "! rm lightweight_pipeline.yaml"
   ]
  }
 ],
 "metadata": {
  "colab": {
   "name": "lightweight_functions_component_io_kfp.ipynb",
   "provenance": [],
   "toc_visible": true
  },
  "environment": {
   "kernel": "conda-base-py",
   "name": "workbench-notebooks.m127",
   "type": "gcloud",
   "uri": "us-docker.pkg.dev/deeplearning-platform-release/gcr.io/workbench-notebooks:m127"
  },
  "kernelspec": {
   "display_name": "Python 3 (ipykernel)",
   "language": "python",
   "name": "conda-base-py"
  },
  "language_info": {
   "codemirror_mode": {
    "name": "ipython",
    "version": 3
   },
   "file_extension": ".py",
   "mimetype": "text/x-python",
   "name": "python",
   "nbconvert_exporter": "python",
   "pygments_lexer": "ipython3",
   "version": "3.10.16"
  }
 },
 "nbformat": 4,
 "nbformat_minor": 4
}
